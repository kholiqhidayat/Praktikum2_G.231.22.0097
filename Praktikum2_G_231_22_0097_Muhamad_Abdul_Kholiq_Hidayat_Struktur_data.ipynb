{
  "nbformat": 4,
  "nbformat_minor": 0,
  "metadata": {
    "colab": {
      "provenance": [],
      "authorship_tag": "ABX9TyP/hYnaIeF3Yu9RO5QgB7No",
      "include_colab_link": true
    },
    "kernelspec": {
      "name": "python3",
      "display_name": "Python 3"
    },
    "language_info": {
      "name": "python"
    }
  },
  "cells": [
    {
      "cell_type": "markdown",
      "metadata": {
        "id": "view-in-github",
        "colab_type": "text"
      },
      "source": [
        "<a href=\"https://colab.research.google.com/github/kholiqhidayat/Praktikum2_G.231.22.0097/blob/main/Praktikum2_G_231_22_0097_Muhamad_Abdul_Kholiq_Hidayat_Struktur_data.ipynb\" target=\"_parent\"><img src=\"https://colab.research.google.com/assets/colab-badge.svg\" alt=\"Open In Colab\"/></a>"
      ]
    },
    {
      "cell_type": "code",
      "execution_count": 2,
      "metadata": {
        "id": "2LtECKtTPidI",
        "colab": {
          "base_uri": "https://localhost:8080/"
        },
        "outputId": "fa0fc6bf-fcf2-47f6-ed4c-edde7805c36b"
      },
      "outputs": [
        {
          "output_type": "stream",
          "name": "stdout",
          "text": [
            "[5, 1, 4, 2, 9, 10, 3, 6, 7]\n",
            "[5, 1, 4, 2, 9, 10, 3, 6, 7]\n"
          ]
        }
      ],
      "source": [
        "def int(alist):\n",
        "    for slot in range(0,len(alist)-1):\n",
        "        position = slot\n",
        "    for location in range(slot+1,len(alist)):\n",
        "        if alist[location]<alist[position]:\n",
        "            position = location\n",
        "\n",
        "    temp = alist[slot]\n",
        "    alist[slot] = alist[position]\n",
        "    alist[position] = temp\n",
        "    print(alist)\n",
        "angka = [5,1,4,2,9,10,3,6,7]\n",
        "int(angka)\n",
        "print(angka)"
      ]
    },
    {
      "cell_type": "code",
      "source": [
        "# Membuat sebuah tuple\n",
        "tuple1 = ('Kholiq','Chandra','Riko','Pepes')\n",
        "tuple2 = (1,2,3,4,5,6,7,8,0)\n",
        "\n",
        "# Mengakses elemen-elemen tuple\n",
        "print(tuple1[0])\n",
        "print(tuple2[7])\n",
        "\n",
        "# Menggabungkan tuple\n",
        "combined_tuple = tuple1 + tuple2\n",
        "print(combined_tuple)"
      ],
      "metadata": {
        "colab": {
          "base_uri": "https://localhost:8080/"
        },
        "id": "K7VTaBVO5frs",
        "outputId": "22d735a7-5425-4f06-b96b-765dee76331f"
      },
      "execution_count": 3,
      "outputs": [
        {
          "output_type": "stream",
          "name": "stdout",
          "text": [
            "Kholiq\n",
            "8\n",
            "('Kholiq', 'Chandra', 'Riko', 'Pepes', 1, 2, 3, 4, 5, 6, 7, 8, 0)\n"
          ]
        }
      ]
    },
    {
      "cell_type": "code",
      "source": [
        "# Membuat sebuah dictionary\n",
        "dict = {'nama': 'Kholiq', 'umur': 20, 'pekerjaan': 'Wirausaha'}\n",
        "\n",
        "# Mengakses nilai berdasarkan kunci\n",
        "print(\"Nama:\", dict['nama'])\n",
        "print(\"Pekerjaan:\", dict['pekerjaan'])\n",
        "\n",
        "# Menambahkan entri baru\n",
        "dict['scholl'] = 'Universitas Semarang'\n",
        "\n",
        "# Menghapus entri\n",
        "del dict['umur']\n",
        "\n",
        "# Iterasi melalui dictionary\n",
        "print(\"Isi dictionary:\")\n",
        "for key, value in dict.items():\n",
        "    print(key, \":\", value)"
      ],
      "metadata": {
        "colab": {
          "base_uri": "https://localhost:8080/"
        },
        "id": "DkrcUvlz5hq_",
        "outputId": "5a632939-c8df-4ba3-cb2f-e7cc05fed1f7"
      },
      "execution_count": 4,
      "outputs": [
        {
          "output_type": "stream",
          "name": "stdout",
          "text": [
            "Nama: Kholiq\n",
            "Pekerjaan: Wirausaha\n",
            "Isi dictionary:\n",
            "nama : Kholiq\n",
            "pekerjaan : Wirausaha\n",
            "scholl : Universitas Semarang\n"
          ]
        }
      ]
    }
  ]
}